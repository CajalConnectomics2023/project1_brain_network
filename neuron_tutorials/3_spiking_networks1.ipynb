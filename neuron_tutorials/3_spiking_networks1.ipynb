{
 "cells": [
  {
   "cell_type": "markdown",
   "metadata": {
    "editable": true,
    "slideshow": {
     "slide_type": "slide"
    },
    "tags": []
   },
   "source": [
    "### Spiking Network Models 1\n",
    "Over the previous exercises, we looked at increasingly complex compartment models but to simulate larger networks of neurons (like the fly brain) we probably want something simpler.\n",
    "\n",
    "In theory you could generate many short `Sections`, create synaptic connections between them and model your network like that. However, `NEURON` has a special set of point processes that work better for this purpose. \n",
    "\n",
    "In this exercise, you will get to know integrate-and-fire point processes."
   ]
  },
  {
   "cell_type": "code",
   "execution_count": 1,
   "metadata": {
    "editable": true,
    "slideshow": {
     "slide_type": ""
    },
    "tags": []
   },
   "outputs": [
    {
     "data": {
      "text/plain": [
       "1.0"
      ]
     },
     "execution_count": 1,
     "metadata": {},
     "output_type": "execute_result"
    }
   ],
   "source": [
    "# The usual imports\n",
    "import neuron\n",
    "\n",
    "from neuron import h\n",
    "from neuron.units import ms, mV, µm\n",
    "\n",
    "h.load_file(\"stdrun.hoc\")"
   ]
  },
  {
   "cell_type": "markdown",
   "metadata": {},
   "source": [
    "Neuron ships with several integrate-and-fire models"
   ]
  },
  {
   "cell_type": "code",
   "execution_count": 2,
   "metadata": {},
   "outputs": [
    {
     "data": {
      "text/plain": [
       "['IntFire1',\n",
       " 'IntFire2',\n",
       " 'IntFire4',\n",
       " 'eps_IntFire4',\n",
       " 'ib_IntFire4',\n",
       " 'taueps_IntFire4']"
      ]
     },
     "execution_count": 2,
     "metadata": {},
     "output_type": "execute_result"
    }
   ],
   "source": [
    "[m for m in dir(h) if \"IntFire\" in str(m)]"
   ]
  },
  {
   "cell_type": "markdown",
   "metadata": {},
   "source": [
    "Each implements various different mechanics/parameters. Use `help()` to check their documentation:"
   ]
  },
  {
   "cell_type": "code",
   "execution_count": 3,
   "metadata": {},
   "outputs": [
    {
     "name": "stdout",
     "output_type": "stream",
     "text": [
      "\n",
      "NEURON+Python Online Help System\n",
      "================================\n",
      "\n",
      "Syntax:\n",
      "    ``c = h.IntFire1()``\n",
      "\n",
      "\n",
      "    ``c.tau --- ms time constant``\n",
      "\n",
      "\n",
      "    ``c.refrac --- ms refractory period. Minimum time between events is refrac``\n",
      "\n",
      "\n",
      "    ``c.m --- state variable``\n",
      "\n",
      "\n",
      "    ``c.M --- analytic value of state at current time, t``\n",
      "\n",
      "\n",
      "Description:\n",
      "    A point process that is equivalent to an entire integrate and fire cell. \n",
      "\n",
      "\n",
      "    An output \n",
      "    spike event is sent to all the NetCon instances which have this pointprocess \n",
      "    instance as their source when m >= 1 \n",
      "    If m(t0) = m0 and an input event occurs at t1 \n",
      "    then the value of m an infinitesimal time before the t1 event is \n",
      "    exp(-(t1 - t0)/tau). After the input event m(t1) = m(t1) + weight where weight \n",
      "    is the weight of the NetCon event. \n",
      "    Input events are ignored for refrac time after the spike output \n",
      "    event. \n",
      "\n",
      "\n",
      "    During the refractory period,  m = 2. \n",
      "    At the end of the refractory period, m = 0. \n",
      "    During the refractory period, the function M() returns a value of 2 \n",
      "    for the first 0.5 ms and -1 for the rest of the period. Otherwise it \n",
      "    returns exp((t-t0)/tau) \n",
      "\n",
      "\n",
      "    See `<nrn src dir>/src/nrnoc/intfire1.mod <https://github.com/neuronsimulator/nrn/blob/master/src/nrnoc/intfire1.mod>`_\n",
      "\n",
      "\n",
      "Example:\n",
      "\n",
      "\n",
      "    .. code-block::\n",
      "        python\n",
      "\n",
      "\n",
      "        from neuron import h\n",
      "        from neuron.units import ms, mV\n",
      "        import matplotlib.pyplot as plt\n",
      "        h.load_file(\"stdrun.hoc\")\n",
      "\n",
      "\n",
      "        my_cell = h.IntFire1()\n",
      "        my_cell.tau = 4 * ms\n",
      "        my_cell.refrac = 10 * ms\n",
      "\n",
      "\n",
      "        # stimuli\n",
      "        e_stims = h.NetStim()\n",
      "        e_stims.noise = True\n",
      "        e_stims.interval = 3 * ms\n",
      "        e_stims.start = 0 * ms\n",
      "        e_stims.number = 1e10\n",
      "        nc = h.NetCon(e_stims, my_cell)\n",
      "        nc.weight[0] = 0.5\n",
      "        nc.delay = 0 * ms\n",
      "\n",
      "\n",
      "        # setup recording\n",
      "        stim_times = h.Vector()\n",
      "        output_times = h.Vector()\n",
      "        stim_times_nc = h.NetCon(e_stims, None)\n",
      "        stim_times_nc.record(stim_times)\n",
      "        output_times_nc = h.NetCon(my_cell, None)\n",
      "        output_times_nc.record(output_times)\n",
      "\n",
      "\n",
      "        # run the simulation\n",
      "        h.finitialize(-65 * mV)\n",
      "        h.continuerun(100 * ms)\n",
      "\n",
      "\n",
      "        # show a raster plot of the output spikes and the stimulus times\n",
      "        fig, ax = plt.subplots(figsize=(8, 2))\n",
      "\n",
      "\n",
      "        for c, (color, data) in enumerate([(\"red\", stim_times), (\"black\", output_times)]):\n",
      "            ax.vlines(data, c - 0.4, c + 0.4, colors=color)\n",
      "\n",
      "\n",
      "        ax.set_yticks([0, 1])\n",
      "        ax.set_yticklabels(['excitatory\\nstimuli','output\\nevents'])\n",
      "\n",
      "\n",
      "        ax.set_xlim([0, h.t])\n",
      "        ax.set_xlabel('time (ms)')\n",
      "\n",
      "\n",
      "    `Click here <https://colab.research.google.com/drive/1c02kKjinPAfwdabxMv79fErlqugFVOPo?usp=sharing>`_\n",
      "    for a runnable version of this example. \n",
      "    (To interactively run it, either make a copy or choose\n",
      "    File - Open in playground mode.)\n",
      "\n",
      "\n",
      ".. seealso:\n",
      "\n",
      "\n",
      "     IntFire1 is used in the example for :class:`PatternStim`\n",
      "\n"
     ]
    }
   ],
   "source": [
    "help(h.IntFire1)"
   ]
  },
  {
   "cell_type": "markdown",
   "metadata": {},
   "source": [
    "Let's illustrate this using `IntFire1`. This very simple model has only two parameters:\n",
    "1. The time constant (`tau`) which determines how quickly the cell returns to the resting potential.\n",
    "2. The length of refractory period (`refrac`) which determines the maximal fire rate"
   ]
  },
  {
   "cell_type": "code",
   "execution_count": 4,
   "metadata": {},
   "outputs": [],
   "source": [
    "# Initialize a cell\n",
    "my_cell = h.IntFire1()\n",
    "\n",
    "# Set tau and refract\n",
    "my_cell.tau = 4 * ms\n",
    "my_cell.refrac = 10 * ms"
   ]
  },
  {
   "cell_type": "markdown",
   "metadata": {},
   "source": [
    "Next, we need a stimulus. For that we require two things:\n",
    "1. A `NetStim` that fires spikes\n",
    "2. A `NetCon` to connect the `NetStim` with our `IntFire1` cell"
   ]
  },
  {
   "cell_type": "code",
   "execution_count": 5,
   "metadata": {},
   "outputs": [],
   "source": [
    "# Generate the stimulus\n",
    "e_stims = h.NetStim()\n",
    "e_stims.noise = 0.5  # this makes the spike timing random [fractional, 0-1]\n",
    "e_stims.interval = 3 * ms  # interval between spikes\n",
    "e_stims.start = 0 * ms  # start time of spikes\n",
    "e_stims.number = 1e10  # number of spikes\n",
    "\n",
    "# Initialize the connection between stimulus and the cell\n",
    "nc = h.NetCon(e_stims, my_cell)\n",
    "# `weight` effectively determines how the depolarisation in the postsynaptic cell\n",
    "# - you can think of it as the product of the strength of individual synapses and the total number of synapses\n",
    "nc.weight[0] = 0.5\n",
    "nc.delay = 0 * ms  # the delay between presynaptic spike and postsynaptic current"
   ]
  },
  {
   "cell_type": "markdown",
   "metadata": {},
   "source": [
    "Last but not least: setup the recording (which is a bit different than before)"
   ]
  },
  {
   "cell_type": "code",
   "execution_count": 6,
   "metadata": {},
   "outputs": [
    {
     "data": {
      "text/plain": [
       "0.0"
      ]
     },
     "execution_count": 6,
     "metadata": {},
     "output_type": "execute_result"
    }
   ],
   "source": [
    "stim_times = h.Vector()  # A vector for stimulus times\n",
    "\n",
    "# We can't actually record from the stimulus itself\n",
    "# Instead, we have to use a separate NetStim object\n",
    "stim_times_nc = h.NetCon(e_stims, None)\n",
    "stim_times_nc.record(stim_times)\n",
    "\n",
    "# Same for recording the spikes in our cell\n",
    "output_times = h.Vector()\n",
    "output_times_nc = h.NetCon(my_cell, None)\n",
    "output_times_nc.record(output_times)"
   ]
  },
  {
   "cell_type": "code",
   "execution_count": 7,
   "metadata": {},
   "outputs": [
    {
     "data": {
      "text/plain": [
       "0.0"
      ]
     },
     "execution_count": 7,
     "metadata": {},
     "output_type": "execute_result"
    }
   ],
   "source": [
    "# Run the simulation\n",
    "h.finitialize(-65 * mV)\n",
    "h.continuerun(100 * ms)"
   ]
  },
  {
   "cell_type": "markdown",
   "metadata": {},
   "source": [
    "Our recordings `stim_times` and `output_times` contain time points at which \n",
    "spikes were detected:"
   ]
  },
  {
   "cell_type": "code",
   "execution_count": 8,
   "metadata": {},
   "outputs": [
    {
     "data": {
      "text/plain": [
       "array([ 0.75217529,  2.3041938 ,  5.49630909,  7.61263673,  9.83104492,\n",
       "       11.4864333 , 14.08076192, 19.55809116, 23.36624339, 24.96277202,\n",
       "       28.83033377, 32.42412486, 36.58023052, 39.12138103, 43.16679471,\n",
       "       46.26302382, 47.82222764, 49.7431472 , 51.64706729, 55.08260633,\n",
       "       58.89116363, 61.0990186 , 63.12078441, 65.88190053, 79.09860792,\n",
       "       82.2798154 , 84.34903678, 86.3325891 , 89.26935279, 91.03047782,\n",
       "       93.26868854, 96.06701711, 97.71548929, 99.42484217])"
      ]
     },
     "execution_count": 8,
     "metadata": {},
     "output_type": "execute_result"
    }
   ],
   "source": [
    "stim_times.as_numpy()"
   ]
  },
  {
   "cell_type": "markdown",
   "metadata": {},
   "source": [
    "Show a raster plot of the output spikes and the stimulus times"
   ]
  },
  {
   "cell_type": "code",
   "execution_count": 9,
   "metadata": {},
   "outputs": [
    {
     "data": {
      "image/png": "[encoded data removed]",
      "text/plain": [
       "<Figure size 576x144 with 1 Axes>"
      ]
     },
     "metadata": {
      "needs_background": "light"
     },
     "output_type": "display_data"
    }
   ],
   "source": [
    "import matplotlib.pyplot as plt\n",
    "\n",
    "fig, ax = plt.subplots(figsize=(8, 2))\n",
    "\n",
    "for c, (color, data) in enumerate([(\"red\", stim_times), (\"black\", output_times)]):\n",
    "    ax.vlines(data.as_numpy(), c - 0.4, c + 0.4, colors=color)\n",
    "\n",
    "ax.set_yticks([0, 1])\n",
    "ax.set_yticklabels([\"excitatory\\nstimuli\", \"output\\nevents\"])\n",
    "\n",
    "ax.set_xlim([0, h.t])\n",
    "ax.set_xlabel(\"time (ms)\")"
   ]
  },
  {
   "cell_type": "markdown",
   "metadata": {},
   "source": [
    "We get a spikes in the postsynaptic cell but not a whole lot. \n",
    "\n",
    "Now you have 10min to play around with the above. Please download this notebook and run on your machine or collaboratory. Try this:\n",
    "\n",
    "1. Play with `tau` to get more spikes\n",
    "2. Reset the model and replace the synaptic current with synaptic input (`cmp.add_synaptic_input`) at 20 postsynapses (`post.node_id.unique()[0:20]`). Play with the number and interval of spikes and add try adding noise."
   ]
  }
 ],
 "metadata": {
  "kernelspec": {
   "display_name": "Python 3 (ipykernel)",
   "language": "python",
   "name": "python3"
  },
  "language_info": {
   "codemirror_mode": {
    "name": "ipython",
    "version": 3
   },
   "file_extension": ".py",
   "mimetype": "text/x-python",
   "name": "python",
   "nbconvert_exporter": "python",
   "pygments_lexer": "ipython3",
   "version": "3.9.9"
  },
  "rise": {
   "slideNumber": true,
   "theme": "serif"
  }
 },
 "nbformat": 4,
 "nbformat_minor": 4
}
