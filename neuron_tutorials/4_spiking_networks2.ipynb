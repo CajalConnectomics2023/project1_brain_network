{
 "cells": [
  {
   "cell_type": "markdown",
   "metadata": {
    "editable": true,
    "slideshow": {
     "slide_type": "slide"
    },
    "tags": []
   },
   "source": [
    "### Spiking Network Models 2\n",
    "In the last notebook you learned to generate and stimulate an\n",
    "integrate-and-fire cells.\n",
    "\n",
    "In this exercise, you will learn to generate small networks from scratch using\n",
    "the `NEURON` API."
   ]
  },
  {
   "cell_type": "code",
   "execution_count": 1,
   "metadata": {
    "editable": true,
    "slideshow": {
     "slide_type": ""
    },
    "tags": []
   },
   "outputs": [
    {
     "data": {
      "text/plain": [
       "1.0"
      ]
     },
     "execution_count": 1,
     "metadata": {},
     "output_type": "execute_result"
    }
   ],
   "source": [
    "# The usual imports\n",
    "import neuron\n",
    "\n",
    "from neuron import h\n",
    "from neuron.units import ms, mV, µm\n",
    "\n",
    "h.load_file(\"stdrun.hoc\")"
   ]
  },
  {
   "cell_type": "markdown",
   "metadata": {},
   "source": [
    "This time we will generate two cells and connect them"
   ]
  },
  {
   "cell_type": "code",
   "execution_count": 50,
   "metadata": {},
   "outputs": [],
   "source": [
    "# Initialize two cells\n",
    "cell1 = h.IntFire1()\n",
    "cell2 = h.IntFire1()\n",
    "\n",
    "# Set tau and refract\n",
    "for c in [cell1, cell2]:\n",
    "    c.tau = 4 * ms\n",
    "    c.refrac = 10 * ms"
   ]
  },
  {
   "cell_type": "markdown",
   "metadata": {},
   "source": [
    "To connect our two cells we use a `NetCon`:"
   ]
  },
  {
   "cell_type": "code",
   "execution_count": 62,
   "metadata": {},
   "outputs": [],
   "source": [
    "cn = h.NetCon(cell1, cell2)\n",
    "cn.weight[0] = 1  # Medium weight\n",
    "cn.delay = 5 * ms  # Give it a bit of a delay"
   ]
  },
  {
   "cell_type": "markdown",
   "metadata": {},
   "source": [
    "Add a stimulus to cell 1"
   ]
  },
  {
   "cell_type": "code",
   "execution_count": 63,
   "metadata": {},
   "outputs": [],
   "source": [
    "# Generate the stimulus\n",
    "e_stims = h.NetStim()\n",
    "e_stims.noise = 0.5  # this makes the spike timing random [fractional, 0-1]\n",
    "e_stims.interval = 3 * ms  # interval between spikes\n",
    "e_stims.start = 0 * ms  # start time of spikes\n",
    "e_stims.number = 1e10  # number of spikes\n",
    "\n",
    "# Initialize the connection between stimulus and the cell\n",
    "nc = h.NetCon(e_stims, cell1)\n",
    "nc.weight[0] = 1  # a high weight will make sure cell 1 actually fires\n",
    "nc.delay = 0 * ms  # the delay between presynaptic spike and postsynaptic current"
   ]
  },
  {
   "cell_type": "markdown",
   "metadata": {},
   "source": [
    "Setup the recordings"
   ]
  },
  {
   "cell_type": "code",
   "execution_count": 64,
   "metadata": {},
   "outputs": [
    {
     "data": {
      "text/plain": [
       "0.0"
      ]
     },
     "execution_count": 64,
     "metadata": {},
     "output_type": "execute_result"
    }
   ],
   "source": [
    "# Vectors for stimulus times\n",
    "cell1_times = h.Vector()\n",
    "cell2_times = h.Vector()\n",
    "\n",
    "# Connect cell 1\n",
    "cell1_times_nc = h.NetCon(cell1, None)\n",
    "cell1_times_nc.record(cell1_times)\n",
    "\n",
    "# Connect cell 2\n",
    "cell2_times_nc = h.NetCon(cell2, None)\n",
    "cell2_times_nc.record(cell2_times)"
   ]
  },
  {
   "cell_type": "code",
   "execution_count": 65,
   "metadata": {},
   "outputs": [
    {
     "data": {
      "text/plain": [
       "0.0"
      ]
     },
     "execution_count": 65,
     "metadata": {},
     "output_type": "execute_result"
    }
   ],
   "source": [
    "# Run the simulation\n",
    "h.finitialize(-65 * mV)\n",
    "h.continuerun(1000 * ms)"
   ]
  },
  {
   "cell_type": "markdown",
   "metadata": {},
   "source": [
    "Show a raster plot of the output spikes and the stimulus times"
   ]
  },
  {
   "cell_type": "code",
   "execution_count": 66,
   "metadata": {},
   "outputs": [
    {
     "data": {
      "text/plain": [
       "Text(0.5, 0, 'time (ms)')"
      ]
     },
     "execution_count": 66,
     "metadata": {},
     "output_type": "execute_result"
    },
    {
     "data": {
      "image/png": "[encoded data removed]",
      "text/plain": [
       "<Figure size 576x144 with 1 Axes>"
      ]
     },
     "metadata": {
      "needs_background": "light"
     },
     "output_type": "display_data"
    }
   ],
   "source": [
    "import matplotlib.pyplot as plt\n",
    "\n",
    "fig, ax = plt.subplots(figsize=(8, 2))\n",
    "\n",
    "for i, data in enumerate([cell1_times, cell2_times]):\n",
    "    ax.vlines(data.as_numpy(), i - 0.4, i + 0.4)\n",
    "\n",
    "ax.set_yticks([0, 1])\n",
    "ax.set_yticklabels([\"cell 1\", \"cell 2\"])\n",
    "\n",
    "ax.set_xlim([0, h.t])\n",
    "ax.set_xlabel(\"time (ms)\")"
   ]
  },
  {
   "cell_type": "markdown",
   "metadata": {},
   "source": [
    "What if we change tau so that `cell2` does not integrate as well anymore"
   ]
  },
  {
   "cell_type": "code",
   "execution_count": 79,
   "metadata": {},
   "outputs": [],
   "source": [
    "cell2.tau = 0.4 * ms"
   ]
  },
  {
   "cell_type": "code",
   "execution_count": 81,
   "metadata": {},
   "outputs": [
    {
     "data": {
      "text/plain": [
       "Text(0.5, 0, 'time (ms)')"
      ]
     },
     "execution_count": 81,
     "metadata": {},
     "output_type": "execute_result"
    },
    {
     "data": {
      "image/png": "[encoded data removed]",
      "text/plain": [
       "<Figure size 576x144 with 1 Axes>"
      ]
     },
     "metadata": {
      "needs_background": "light"
     },
     "output_type": "display_data"
    }
   ],
   "source": [
    "# Run the simulation\n",
    "h.finitialize(-65 * mV)\n",
    "h.continuerun(1000 * ms)\n",
    "\n",
    "# Plot results\n",
    "fig, ax = plt.subplots(figsize=(8, 2))\n",
    "\n",
    "for i, data in enumerate([cell1_times, cell2_times]):\n",
    "    ax.vlines(data.as_numpy(), i - 0.4, i + 0.4)\n",
    "\n",
    "ax.set_yticks([0, 1])\n",
    "ax.set_yticklabels([\"cell 1\", \"cell 2\"])\n",
    "\n",
    "ax.set_xlim([0, h.t])\n",
    "ax.set_xlabel(\"time (ms)\")"
   ]
  },
  {
   "cell_type": "markdown",
   "metadata": {},
   "source": [
    "Let's add a third inhibitory cell"
   ]
  },
  {
   "cell_type": "code",
   "execution_count": 83,
   "metadata": {},
   "outputs": [
    {
     "data": {
      "text/plain": [
       "0.0"
      ]
     },
     "execution_count": 83,
     "metadata": {},
     "output_type": "execute_result"
    }
   ],
   "source": [
    "# Initialise cell\n",
    "cell3 = h.IntFire1()\n",
    "cell3.tau = 2 * ms\n",
    "cell3.refrac = 10 * ms\n",
    "\n",
    "# Add a stimulus to cell 3 - but start at 400ms\n",
    "e_stims3 = h.NetStim()\n",
    "e_stims3.noise = 0.5\n",
    "e_stims3.interval = 3 * ms\n",
    "e_stims3.start = 400 * ms\n",
    "e_stims3.number = 1e10\n",
    "\n",
    "# Initialize the connection between stimulus and the cell\n",
    "nc3 = h.NetCon(e_stims3, cell3)\n",
    "nc3.weight[0] = 1  # a high weight will make sure cell 1 actually fires\n",
    "nc3.delay = 0 * ms  # the delay between presynaptic spike and postsynaptic current\n",
    "\n",
    "# Setup recordings\n",
    "cell3_times = h.Vector()\n",
    "cell3_times_nc = h.NetCon(cell3, None)\n",
    "cell3_times_nc.record(cell3_times)"
   ]
  },
  {
   "cell_type": "code",
   "execution_count": 84,
   "metadata": {},
   "outputs": [],
   "source": [
    "# Connect cell 3 -> 2 with negative weight\n",
    "cn2 = h.NetCon(cell3, cell2)\n",
    "cn2.weight[0] = -1  # negative weight\n",
    "cn2.delay = 5 * ms  # Give it a bit of a delay"
   ]
  },
  {
   "cell_type": "code",
   "execution_count": 85,
   "metadata": {},
   "outputs": [
    {
     "data": {
      "text/plain": [
       "Text(0.5, 0, 'time (ms)')"
      ]
     },
     "execution_count": 85,
     "metadata": {},
     "output_type": "execute_result"
    },
    {
     "data": {
      "image/png": "[encoded data removed]",
      "text/plain": [
       "<Figure size 576x144 with 1 Axes>"
      ]
     },
     "metadata": {
      "needs_background": "light"
     },
     "output_type": "display_data"
    }
   ],
   "source": [
    "# Run the simulation\n",
    "h.finitialize(-65 * mV)\n",
    "h.continuerun(1000 * ms)\n",
    "\n",
    "# Plot results\n",
    "fig, ax = plt.subplots(figsize=(8, 2))\n",
    "\n",
    "for i, data in enumerate([cell1_times, cell2_times, cell3_times]):\n",
    "    ax.vlines(data.as_numpy(), i - 0.4, i + 0.4)\n",
    "\n",
    "ax.set_yticks([0, 1, 2])\n",
    "ax.set_yticklabels([\"cell 1\", \"cell 2\", \"cell 3\"])\n",
    "\n",
    "ax.set_xlim([0, h.t])\n",
    "ax.set_xlabel(\"time (ms)\")"
   ]
  },
  {
   "cell_type": "markdown",
   "metadata": {},
   "source": [
    "Note how the inhibition from `cell 3` lowers the firing rate in `cell 2`?\n",
    "\n",
    "As you probably noticed `NEURON` requires writing a lot of boilerplate and \n",
    "it quickly becomes unyieldy as your networks increase in size.\n",
    "\n",
    "The solution for this would be to write a e.g. `Class` that abstracts away some \n",
    "of those complexities. [NetPyne](http://www.netpyne.org/), for example, is a\n",
    "third party library that wraps `NEURON` and makes it easy to construct and \n",
    "simulate large networks. It is, however, designed primarily for probabilistic\n",
    "(mammalian) networks and not well suited for our purposes.\n",
    "\n",
    "Fortunately, [navis](https://navis.readthedocs.io/) has a simple `PointNetwork`\n",
    "class that we can leverage to generate and analyse networks.\n",
    "\n",
    "Let's re-implement the above 3-cell network using navis:"
   ]
  },
  {
   "cell_type": "code",
   "execution_count": 128,
   "metadata": {},
   "outputs": [
    {
     "data": {
      "text/html": [
       "<div>\n",
       "<style scoped>\n",
       "    .dataframe tbody tr th:only-of-type {\n",
       "        vertical-align: middle;\n",
       "    }\n",
       "\n",
       "    .dataframe tbody tr th {\n",
       "        vertical-align: top;\n",
       "    }\n",
       "\n",
       "    .dataframe thead th {\n",
       "        text-align: right;\n",
       "    }\n",
       "</style>\n",
       "<table border=\"1\" class=\"dataframe\">\n",
       "  <thead>\n",
       "    <tr style=\"text-align: right;\">\n",
       "      <th></th>\n",
       "      <th>source</th>\n",
       "      <th>target</th>\n",
       "      <th>weight</th>\n",
       "    </tr>\n",
       "  </thead>\n",
       "  <tbody>\n",
       "    <tr>\n",
       "      <th>0</th>\n",
       "      <td>1</td>\n",
       "      <td>2</td>\n",
       "      <td>1</td>\n",
       "    </tr>\n",
       "    <tr>\n",
       "      <th>1</th>\n",
       "      <td>3</td>\n",
       "      <td>2</td>\n",
       "      <td>-1</td>\n",
       "    </tr>\n",
       "  </tbody>\n",
       "</table>\n",
       "</div>"
      ],
      "text/plain": [
       "  source target  weight\n",
       "0      1      2       1\n",
       "1      3      2      -1"
      ]
     },
     "execution_count": 128,
     "metadata": {},
     "output_type": "execute_result"
    }
   ],
   "source": [
    "# First we make an edge list reflecting our target connectivity\n",
    "import pandas as pd\n",
    "\n",
    "edges = pd.DataFrame([])\n",
    "edges[\"source\"] = [\"1\", \"3\"]\n",
    "edges[\"target\"] = [\"2\", \"2\"]\n",
    "edges[\"weight\"] = [1, -1]\n",
    "edges"
   ]
  },
  {
   "cell_type": "code",
   "execution_count": 129,
   "metadata": {},
   "outputs": [
    {
     "data": {
      "text/plain": [
       "PointNetwork<neurons=3,edges=2>"
      ]
     },
     "execution_count": 129,
     "metadata": {},
     "output_type": "execute_result"
    }
   ],
   "source": [
    "import navis.interfaces.neuron as nrn\n",
    "\n",
    "# Generate network from edge list\n",
    "net = nrn.PointNetwork.from_edge_list(edges, model=\"IntFire1\")\n",
    "net"
   ]
  },
  {
   "cell_type": "code",
   "execution_count": 130,
   "metadata": {},
   "outputs": [],
   "source": [
    "# Set properties for all neurons in the network\n",
    "for cell in net.neurons:\n",
    "    cell.process.tau = 4 * ms\n",
    "    cell.process.refrac = 10 * ms\n",
    "\n",
    "# Set delay for all edges\n",
    "for edge in net.edges:\n",
    "    edge[3].delay = 5 * ms"
   ]
  },
  {
   "cell_type": "code",
   "execution_count": 131,
   "metadata": {},
   "outputs": [],
   "source": [
    "# Add the two stimuli\n",
    "net.add_stimulus(\"1\", start=0, stop=1000, frequency=100, randomness=0)\n",
    "net.add_stimulus(\"3\", start=400, stop=700, frequency=100, randomness=0)"
   ]
  },
  {
   "cell_type": "markdown",
   "metadata": {},
   "source": [
    "By default, the `PointNetwork` will automatically add recordings to all \n",
    "neurons. So we're good to run our simulation."
   ]
  },
  {
   "cell_type": "code",
   "execution_count": 132,
   "metadata": {},
   "outputs": [],
   "source": [
    "# Run simulation\n",
    "net.run_simulation(1000)"
   ]
  },
  {
   "cell_type": "code",
   "execution_count": 133,
   "metadata": {},
   "outputs": [
    {
     "data": {
      "image/png": "[encoded data removed]",
      "text/plain": [
       "<Figure size 864x216 with 1 Axes>"
      ]
     },
     "metadata": {
      "needs_background": "light"
     },
     "output_type": "display_data"
    }
   ],
   "source": [
    "# Plot\n",
    "ax = net.plot_raster(backend=\"matplotlib\", label=True, stimuli=False)"
   ]
  }
 ],
 "metadata": {
  "kernelspec": {
   "display_name": "Python 3 (ipykernel)",
   "language": "python",
   "name": "python3"
  },
  "language_info": {
   "codemirror_mode": {
    "name": "ipython",
    "version": 3
   },
   "file_extension": ".py",
   "mimetype": "text/x-python",
   "name": "python",
   "nbconvert_exporter": "python",
   "pygments_lexer": "ipython3",
   "version": "3.9.9"
  },
  "rise": {
   "slideNumber": true,
   "theme": "serif"
  }
 },
 "nbformat": 4,
 "nbformat_minor": 4
}
