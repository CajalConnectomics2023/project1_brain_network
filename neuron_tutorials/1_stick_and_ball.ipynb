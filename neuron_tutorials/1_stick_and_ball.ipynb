{
 "cells": [
  {
   "cell_type": "markdown",
   "metadata": {
    "editable": true,
    "slideshow": {
     "slide_type": "slide"
    },
    "tags": []
   },
   "source": [
    "### Stick & ball models\n",
    "In this notebook you will learn how to generate a simple compartment model using the \n",
    "`NEURON` simulator.\n",
    "\n",
    "While this is not the primary objective of the project it's a useful exercise to get to know `NEURON`.\n",
    "\n",
    "If you haven't already, please make sure `NEURON` and `matplotlib` are installed:\n",
    "\n",
    "```bash \n",
    "pip3 install neuron matplotlib -U\n",
    "```"
   ]
  },
  {
   "cell_type": "markdown",
   "metadata": {
    "editable": true,
    "slideshow": {
     "slide_type": "slide"
    },
    "tags": []
   },
   "source": [
    "Again the first thing is to import the NEURON module"
   ]
  },
  {
   "cell_type": "code",
   "execution_count": 1,
   "metadata": {
    "editable": true,
    "slideshow": {
     "slide_type": ""
    },
    "tags": []
   },
   "outputs": [
    {
     "data": {
      "text/plain": [
       "'8.2.3'"
      ]
     },
     "execution_count": 1,
     "metadata": {},
     "output_type": "execute_result"
    }
   ],
   "source": [
    "import neuron\n",
    "\n",
    "from neuron import h\n",
    "from neuron.units import ms, mV, µm\n",
    "\n",
    "# Load the extra functionality\n",
    "h.load_file(\"stdrun.hoc\")\n",
    "\n",
    "neuron.__version__"
   ]
  },
  {
   "cell_type": "markdown",
   "metadata": {
    "editable": true,
    "slideshow": {
     "slide_type": "subslide"
    },
    "tags": []
   },
   "source": [
    "In the first notebook we used a single `Section`. More complex neurons can be constructed by simply combining multiple linear sections.\n",
    "\n",
    "Let's generate a simple ball and stick model:"
   ]
  },
  {
   "cell_type": "code",
   "execution_count": 2,
   "metadata": {
    "editable": true,
    "slideshow": {
     "slide_type": ""
    },
    "tags": []
   },
   "outputs": [],
   "source": [
    "# Define a section for the soma (ball)\n",
    "soma = h.Section(name=\"soma\")\n",
    "\n",
    "# Define a section for the dendrite (stick)\n",
    "dend = h.Section(name=\"dend\")\n",
    "\n",
    "# And connect the dendrites to the soma \n",
    "dend.connect(soma)\n",
    "\n",
    "# Adjust morphological parameters \n",
    "soma.L = soma.diam = 12.6157 * µm\n",
    "dend.L = 200 * µm\n",
    "dend.diam = 1 * µm"
   ]
  },
  {
   "cell_type": "markdown",
   "metadata": {
    "editable": true,
    "slideshow": {
     "slide_type": "subslide"
    },
    "tags": []
   },
   "source": [
    "Next we need to set biophysical properties:"
   ]
  },
  {
   "cell_type": "code",
   "execution_count": 3,
   "metadata": {
    "editable": true,
    "slideshow": {
     "slide_type": ""
    },
    "tags": []
   },
   "outputs": [],
   "source": [
    "soma.Ra = 100  # Axial resistance in Ohm * cm\n",
    "soma.cm = 1  # Membrane capacitance in micro Farads / cm^2\n",
    "\n",
    "# Add Hodgkin-Huxley (HH) mechanism\n",
    "soma.insert(\"hh\") \n",
    "\n",
    "# Adjust HH properties\n",
    "for seg in soma:\n",
    "    seg.hh.gnabar = 0.12  # Sodium conductance in S/cm2\n",
    "    seg.hh.gkbar = 0.036  # Potassium conductance in S/cm2\n",
    "    seg.hh.gl = 0.0003  # Leak conductance in S/cm2\n",
    "    seg.hh.el = -54.3 * mV  # Reversal potential\n",
    "\n",
    "# Insert passive current mechanism in the dendrite                       \n",
    "dend.insert(\"pas\") \n",
    "\n",
    "for seg in dend:\n",
    "    seg.pas.g = 0.001  # Passive conductance in S/cm2       \n",
    "    seg.pas.e = -65 * mV  # Leak reversal potential         "
   ]
  },
  {
   "cell_type": "markdown",
   "metadata": {
    "editable": true,
    "slideshow": {
     "slide_type": "fragment"
    },
    "tags": []
   },
   "source": [
    "Note how we're iterating over `dend` and `soma` to set the properties for mechanisms? That's because each `Section` consists of several \"Segments\", each of which has its own set of properties."
   ]
  },
  {
   "cell_type": "markdown",
   "metadata": {
    "editable": true,
    "slideshow": {
     "slide_type": "subslide"
    },
    "tags": []
   },
   "source": [
    "What's missing is:\n",
    "1. A stimulus\n",
    "2. Recording of time and voltage"
   ]
  },
  {
   "cell_type": "code",
   "execution_count": 4,
   "metadata": {
    "editable": true,
    "slideshow": {
     "slide_type": ""
    },
    "tags": []
   },
   "outputs": [],
   "source": [
    "# Setup a current clamp stimulus\n",
    "stim = h.IClamp(dend(1))\n",
    "stim.delay = 5\n",
    "stim.dur = 1\n",
    "stim.amp = 0.1\n",
    "\n",
    "# Setup recording of voltage in soma \n",
    "soma_v = h.Vector().record(soma(0.5)._ref_v)\n",
    "\n",
    "# Setup recording of time \n",
    "t = h.Vector().record(h._ref_t)"
   ]
  },
  {
   "cell_type": "markdown",
   "metadata": {
    "editable": true,
    "slideshow": {
     "slide_type": "subslide"
    },
    "tags": []
   },
   "source": [
    "Great! Now we can run the simulation"
   ]
  },
  {
   "cell_type": "code",
   "execution_count": 5,
   "metadata": {
    "editable": true,
    "slideshow": {
     "slide_type": ""
    },
    "tags": []
   },
   "outputs": [
    {
     "data": {
      "text/plain": [
       "0.0"
      ]
     },
     "execution_count": 5,
     "metadata": {},
     "output_type": "execute_result"
    }
   ],
   "source": [
    "h.finitialize(-65 * mV)\n",
    "h.continuerun(25 * ms)"
   ]
  },
  {
   "cell_type": "markdown",
   "metadata": {
    "editable": true,
    "slideshow": {
     "slide_type": "slide"
    },
    "tags": []
   },
   "source": [
    "And plot the results:"
   ]
  },
  {
   "cell_type": "code",
   "execution_count": 6,
   "metadata": {
    "editable": true,
    "slideshow": {
     "slide_type": ""
    },
    "tags": []
   },
   "outputs": [
    {
     "data": {
      "image/png": "[encoded data removed]",
      "text/plain": [
       "<Figure size 432x288 with 1 Axes>"
      ]
     },
     "metadata": {
      "needs_background": "light"
     },
     "output_type": "display_data"
    }
   ],
   "source": [
    "import matplotlib.pyplot as plt\n",
    "\n",
    "# Plot voltage over time\n",
    "_ = plt.plot(t.as_numpy(), soma_v.as_numpy())\n",
    "\n",
    "# Some cosmetics\n",
    "ax = plt.gca()\n",
    "ax.set_xlabel(\"time [ms]\")\n",
    "ax.set_ylabel(\"soma potential [mV]\")\n",
    "\n",
    "plt.show()"
   ]
  },
  {
   "cell_type": "markdown",
   "metadata": {
    "editable": true,
    "slideshow": {
     "slide_type": "fragment"
    },
    "tags": []
   },
   "source": [
    "Subthreshold - i.e. no spike in soma. \n",
    "\n",
    "Let's run an experiment where we increase the current injection:"
   ]
  },
  {
   "cell_type": "code",
   "execution_count": 12,
   "metadata": {
    "editable": true,
    "slideshow": {
     "slide_type": "subslide"
    },
    "tags": []
   },
   "outputs": [
    {
     "data": {
      "text/plain": [
       "<matplotlib.legend.Legend at 0x120c49670>"
      ]
     },
     "execution_count": 12,
     "metadata": {},
     "output_type": "execute_result"
    },
    {
     "data": {
      "image/png": "[encoded data removed]",
      "text/plain": [
       "<Figure size 432x288 with 1 Axes>"
      ]
     },
     "metadata": {
      "needs_background": "light"
     },
     "output_type": "display_data"
    }
   ],
   "source": [
    "# Generate a figure\n",
    "fig, ax = plt.subplots()\n",
    "ax.set_xlabel(\"time [ms]\") \n",
    "ax.set_ylabel(\"potential [mV]\")\n",
    "\n",
    "# Define a set up amplitudes to test\n",
    "amps = [0.075 * i for i in range(1, 5)]\n",
    "\n",
    "# Iterate over the different amplitudes\n",
    "for amp in amps:\n",
    "    # Set the amplitude for this round\n",
    "    stim.amp = amp\n",
    "\n",
    "    # Reset and run the simulation\n",
    "    h.finitialize(-65 * mV)\n",
    "    h.continuerun(25 * ms)\n",
    "\n",
    "    # Add results to the plot\n",
    "    ax.plot(t, list(soma_v), lw=2, label=f\"amp={amp:.3f}\")\n",
    "\n",
    "ax.legend()"
   ]
  },
  {
   "cell_type": "markdown",
   "metadata": {
    "editable": true,
    "slideshow": {
     "slide_type": ""
    },
    "tags": []
   },
   "source": [
    "Now you have _15min_ to play around with the above. Please download this notebook\n",
    "and run on your machine or collaboratory. A couple tasks:\n",
    "\n",
    "1. Add a second recording at the dendrite and plot it\n",
    "2. Set the stimulus to `amp=0.3`, add a second stimulus with `amp=0.225`, `delay=10` and `dur=1` and run the simulation.\n",
    "3. Vary `delay` (instead of `amp`) and co-visualize the results"
   ]
  }
 ],
 "metadata": {
  "kernelspec": {
   "display_name": "Python 3 (ipykernel)",
   "language": "python",
   "name": "python3"
  },
  "language_info": {
   "codemirror_mode": {
    "name": "ipython",
    "version": 3
   },
   "file_extension": ".py",
   "mimetype": "text/x-python",
   "name": "python",
   "nbconvert_exporter": "python",
   "pygments_lexer": "ipython3",
   "version": "3.9.9"
  },
  "rise": {
   "slideNumber": true,
   "theme": "serif"
  }
 },
 "nbformat": 4,
 "nbformat_minor": 4
}
