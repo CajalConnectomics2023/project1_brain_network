{
 "cells": [
  {
   "cell_type": "markdown",
   "metadata": {
    "editable": true,
    "slideshow": {
     "slide_type": "slide"
    },
    "tags": []
   },
   "source": [
    "### NEURON basics\n",
    "In this notebook you will learn how to generate a compartment model using the \n",
    "NEURON simulator. \n",
    "\n",
    "If you haven't already, please make sure `NEURON` and `matplotlib` are installed:\n",
    "\n",
    "```bash \n",
    "pip3 install neuron matplotlib -U\n",
    "```"
   ]
  },
  {
   "cell_type": "markdown",
   "metadata": {
    "editable": true,
    "slideshow": {
     "slide_type": "slide"
    },
    "tags": []
   },
   "source": [
    "First up: importing the NEURON module"
   ]
  },
  {
   "cell_type": "code",
   "execution_count": 3,
   "metadata": {
    "editable": true,
    "slideshow": {
     "slide_type": ""
    },
    "tags": []
   },
   "outputs": [
    {
     "data": {
      "text/plain": [
       "'8.2.3'"
      ]
     },
     "execution_count": 3,
     "metadata": {},
     "output_type": "execute_result"
    }
   ],
   "source": [
    "import neuron\n",
    "from neuron import h  # <- this is where most functionality live\n",
    "\n",
    "# We're using the most recent version of NEURON\n",
    "neuron.__version__"
   ]
  },
  {
   "cell_type": "markdown",
   "metadata": {
    "editable": true,
    "slideshow": {
     "slide_type": "subslide"
    },
    "tags": []
   },
   "source": [
    "NEURON compartment models consist of linear \"sections\" - i.e. bits of unbranched \n",
    "cable. "
   ]
  },
  {
   "cell_type": "code",
   "execution_count": 4,
   "metadata": {
    "editable": true,
    "slideshow": {
     "slide_type": ""
    },
    "tags": []
   },
   "outputs": [],
   "source": [
    "# Define a single section\n",
    "soma = h.Section(name=\"soma\")"
   ]
  },
  {
   "cell_type": "markdown",
   "metadata": {
    "editable": true,
    "slideshow": {
     "slide_type": "subslide"
    },
    "tags": []
   },
   "source": [
    "Sections have various passive properties (we'll get to the active properties \n",
    "later):"
   ]
  },
  {
   "cell_type": "code",
   "execution_count": 6,
   "metadata": {
    "editable": true,
    "slideshow": {
     "slide_type": ""
    },
    "tags": []
   },
   "outputs": [
    {
     "data": {
      "text/plain": [
       "{'point_processes': {},\n",
       " 'density_mechs': {},\n",
       " 'ions': {},\n",
       " 'morphology': {'L': 100.0,\n",
       "  'diam': [500.0],\n",
       "  'pts3d': [],\n",
       "  'parent': None,\n",
       "  'trueparent': None},\n",
       " 'nseg': 1,\n",
       " 'Ra': 35.4,\n",
       " 'cm': [1.0],\n",
       " 'regions': set(),\n",
       " 'species': set(),\n",
       " 'name': 'soma',\n",
       " 'hoc_internal_name': '__nrnsec_0x7f95e80f8000',\n",
       " 'cell': None}"
      ]
     },
     "execution_count": 6,
     "metadata": {},
     "output_type": "execute_result"
    }
   ],
   "source": [
    "soma.psection()"
   ]
  },
  {
   "cell_type": "markdown",
   "metadata": {
    "editable": true,
    "slideshow": {
     "slide_type": "subslide"
    },
    "tags": []
   },
   "source": [
    "The `psection` method gives you a summary of the section's properties. Alternative,\n",
    "we could also use `dir(soma)` to inspect available properties and methods. "
   ]
  },
  {
   "cell_type": "markdown",
   "metadata": {
    "editable": true,
    "slideshow": {
     "slide_type": "subslide"
    },
    "tags": []
   },
   "source": [
    "Annoyingly, the documentation for some of the available parameters is either\n",
    "non-existing or at least well hidden. This is in large parts due to `NEURON`\n",
    "written in hoc and just wrapped in Python. For functions and methods you can \n",
    "use `help()` and hope you get what you need. Otherwise, you need to try your\n",
    "luck in the [official documentation](https://nrn.readthedocs.io/en/8.2.3/index.html)."
   ]
  },
  {
   "cell_type": "markdown",
   "metadata": {
    "editable": true,
    "slideshow": {
     "slide_type": "subslide"
    },
    "tags": []
   },
   "source": [
    "For `Sections` the relevant parameters are:\n",
    "- `L`: the length of the segment [`um`]\n",
    "- `diam`: diameter of the segment [`um`]\n",
    "- `Ra`: axial resistivity [`ohm*cm`]\n",
    "- `cm`: specific membrane capacitance [`uF/cm^2`]\n",
    "\n",
    "\n",
    "All the defaults (including `h.celcius` which is set to `6.3`) originate from \n",
    "the famous Hodkin and Huxely study of the squid giant axon. Bottom line: \n",
    "you will want to adjust these when modeling your non-cephalopod neurons."
   ]
  },
  {
   "cell_type": "code",
   "execution_count": 21,
   "metadata": {
    "editable": true,
    "slideshow": {
     "slide_type": ""
    },
    "tags": []
   },
   "outputs": [],
   "source": [
    "# Reduce length and diameter to 20um\n",
    "# (i.e. to mammalian neuron soma size)\n",
    "soma.L = 20\n",
    "soma.diam = 20"
   ]
  },
  {
   "cell_type": "markdown",
   "metadata": {
    "editable": true,
    "slideshow": {
     "slide_type": ""
    },
    "tags": []
   },
   "source": [
    "Other parameters can be adjusted in a similar way."
   ]
  },
  {
   "cell_type": "markdown",
   "metadata": {
    "editable": true,
    "slideshow": {
     "slide_type": "slide"
    },
    "tags": []
   },
   "source": [
    "### Active properties\n",
    "\n",
    "By default, a `Section` will only exhibit passive electrical properties. Any \n",
    "active _mechanisms_ have to be added explicitly. \n",
    "\n",
    "Here, \"mechanism\" refers to all kinds of active or passive channels/pumps. \n",
    "`NEURON` comes with a bunch of predefined mechanics but you can also download \n",
    "MOD files from [ModelDB](https://modeldb.science/) or write your own.\n",
    "\n",
    "Let's insert channel kinetics from Hodgkin-Huxley:"
   ]
  },
  {
   "cell_type": "code",
   "execution_count": 22,
   "metadata": {
    "editable": true,
    "slideshow": {
     "slide_type": ""
    },
    "tags": []
   },
   "outputs": [
    {
     "data": {
      "text/plain": [
       "soma"
      ]
     },
     "execution_count": 22,
     "metadata": {},
     "output_type": "execute_result"
    }
   ],
   "source": [
    "# \"hh\" is short fo Hodgkin-Huxley\n",
    "# To check, you could run soma.psection() again and inspect the various\n",
    "# parameters\n",
    "soma.insert(\"hh\")"
   ]
  },
  {
   "cell_type": "markdown",
   "metadata": {
    "editable": true,
    "slideshow": {
     "slide_type": "subslide"
    },
    "tags": []
   },
   "source": [
    "OK, now we have a soma with a bunch of active and passive properties. Well, we\n",
    "could check the current voltage difference in its center:"
   ]
  },
  {
   "cell_type": "code",
   "execution_count": 27,
   "metadata": {},
   "outputs": [
    {
     "data": {
      "text/plain": [
       "-65.0"
      ]
     },
     "execution_count": 27,
     "metadata": {},
     "output_type": "execute_result"
    }
   ],
   "source": [
    "# the (0.5) is like inserting the electrode in the middle of the soma\n",
    "soma(0.5).v"
   ]
  },
  {
   "cell_type": "markdown",
   "metadata": {
    "editable": true,
    "slideshow": {
     "slide_type": "slide"
    },
    "tags": []
   },
   "source": [
    "## Running the simulation\n",
    "\n",
    "So far so good. What if we increment the simulation by one step?\n",
    "\n",
    "The size of the step is set via `h.dt` which defaults to `0.025ms`"
   ]
  },
  {
   "cell_type": "code",
   "execution_count": 39,
   "metadata": {
    "editable": true,
    "slideshow": {
     "slide_type": ""
    },
    "tags": []
   },
   "outputs": [
    {
     "data": {
      "text/plain": [
       "0.025"
      ]
     },
     "execution_count": 39,
     "metadata": {},
     "output_type": "execute_result"
    }
   ],
   "source": [
    "h.dt"
   ]
  },
  {
   "cell_type": "markdown",
   "metadata": {
    "editable": true,
    "slideshow": {
     "slide_type": "fragment"
    },
    "tags": []
   },
   "source": [
    "The current time is `0`"
   ]
  },
  {
   "cell_type": "code",
   "execution_count": 41,
   "metadata": {
    "editable": true,
    "slideshow": {
     "slide_type": ""
    },
    "tags": []
   },
   "outputs": [
    {
     "data": {
      "text/plain": [
       "0.0"
      ]
     },
     "execution_count": 41,
     "metadata": {},
     "output_type": "execute_result"
    }
   ],
   "source": [
    "h.t"
   ]
  },
  {
   "cell_type": "markdown",
   "metadata": {
    "editable": true,
    "slideshow": {
     "slide_type": "subslide"
    },
    "tags": []
   },
   "source": [
    "Advance by `dt` and inspect time"
   ]
  },
  {
   "cell_type": "code",
   "execution_count": 42,
   "metadata": {},
   "outputs": [
    {
     "data": {
      "text/plain": [
       "0.025"
      ]
     },
     "execution_count": 42,
     "metadata": {},
     "output_type": "execute_result"
    }
   ],
   "source": [
    "h.fadvance()\n",
    "h.t"
   ]
  },
  {
   "cell_type": "markdown",
   "metadata": {
    "editable": true,
    "slideshow": {
     "slide_type": "slide"
    },
    "tags": []
   },
   "source": [
    "Has the voltage in our soma segment changed?"
   ]
  },
  {
   "cell_type": "code",
   "execution_count": 43,
   "metadata": {
    "editable": true,
    "slideshow": {
     "slide_type": ""
    },
    "tags": []
   },
   "outputs": [
    {
     "data": {
      "text/plain": [
       "-64.92034739454095"
      ]
     },
     "execution_count": 43,
     "metadata": {},
     "output_type": "execute_result"
    }
   ],
   "source": [
    "soma(0.5).v"
   ]
  },
  {
   "cell_type": "markdown",
   "metadata": {
    "editable": true,
    "slideshow": {
     "slide_type": ""
    },
    "tags": []
   },
   "source": [
    "Well... a little! Looks like the initial -65mV isn't the resting potential for this \n",
    "cell.\n",
    "\n",
    "We could just keep advancing the simulation via `h.fadvance()` and checking the \n",
    "voltage but that gets old quick (and it's slow)."
   ]
  },
  {
   "cell_type": "markdown",
   "metadata": {
    "editable": true,
    "slideshow": {
     "slide_type": "subslide"
    },
    "tags": []
   },
   "source": [
    "Instead we will setup a variable that will record the potential for us and let \n",
    "the simulation run for a couple ms:"
   ]
  },
  {
   "cell_type": "code",
   "execution_count": 44,
   "metadata": {
    "editable": true,
    "slideshow": {
     "slide_type": ""
    },
    "tags": []
   },
   "outputs": [],
   "source": [
    "# Add a voltage recording for the soma\n",
    "v = h.Vector().record(soma(0.5)._ref_v)"
   ]
  },
  {
   "cell_type": "markdown",
   "metadata": {
    "editable": true,
    "slideshow": {
     "slide_type": ""
    },
    "tags": []
   },
   "source": [
    "Note the use of `_ref_v`? This is another `NEURON` idiosyncrasie: you pass\n",
    "`_ref_{variable}` as reference to tell the vector where and what to record."
   ]
  },
  {
   "cell_type": "markdown",
   "metadata": {
    "editable": true,
    "slideshow": {
     "slide_type": "subslide"
    },
    "tags": []
   },
   "source": [
    "We will also need to keep track of time:"
   ]
  },
  {
   "cell_type": "code",
   "execution_count": 45,
   "metadata": {
    "editable": true,
    "slideshow": {
     "slide_type": ""
    },
    "tags": []
   },
   "outputs": [],
   "source": [
    "# Note the use of `_ref_t` here\n",
    "t = h.Vector().record(h._ref_t)"
   ]
  },
  {
   "cell_type": "markdown",
   "metadata": {
    "editable": true,
    "slideshow": {
     "slide_type": "subslide"
    },
    "tags": []
   },
   "source": [
    "Now we can (almost) start running the simulation. Oddly, `NEURON` doesn't have \n",
    "a \"run the simulation for X ms\" function by default. For that we need to \n",
    "import a separate _hoc_ file:"
   ]
  },
  {
   "cell_type": "code",
   "execution_count": 46,
   "metadata": {},
   "outputs": [
    {
     "data": {
      "text/plain": [
       "1.0"
      ]
     },
     "execution_count": 46,
     "metadata": {},
     "output_type": "execute_result"
    }
   ],
   "source": [
    "h.load_file(\"stdrun.hoc\")"
   ]
  },
  {
   "cell_type": "markdown",
   "metadata": {
    "editable": true,
    "slideshow": {
     "slide_type": "subslide"
    },
    "tags": []
   },
   "source": [
    "OK, all set now. To run the simulation for 40ms:"
   ]
  },
  {
   "cell_type": "code",
   "execution_count": 47,
   "metadata": {},
   "outputs": [
    {
     "data": {
      "text/plain": [
       "0.0"
      ]
     },
     "execution_count": 47,
     "metadata": {},
     "output_type": "execute_result"
    }
   ],
   "source": [
    "# Use of units is good practice\n",
    "from neuron.units import ms, mV\n",
    "\n",
    "# Reset starting potential to -65mV\n",
    "h.finitialize(-65 * mV)\n",
    "\n",
    "# Run the simulation for 40ms\n",
    "h.continuerun(40 * ms)"
   ]
  },
  {
   "cell_type": "markdown",
   "metadata": {
    "editable": true,
    "slideshow": {
     "slide_type": "subslide"
    },
    "tags": []
   },
   "source": [
    "What now? Well, the simulation has run for 40ms and our results are in the \n",
    "recording variables `t` and `v` we set up earlier:"
   ]
  },
  {
   "cell_type": "code",
   "execution_count": 51,
   "metadata": {},
   "outputs": [
    {
     "data": {
      "text/plain": [
       "array([-65.        , -64.99925453, -64.99852075, ..., -64.974035  ,\n",
       "       -64.97403521, -64.97403542])"
      ]
     },
     "execution_count": 51,
     "metadata": {},
     "output_type": "execute_result"
    }
   ],
   "source": [
    "# Convert results to numpy arrays\n",
    "v.as_numpy()"
   ]
  },
  {
   "cell_type": "markdown",
   "metadata": {
    "editable": true,
    "slideshow": {
     "slide_type": "subslide"
    },
    "tags": []
   },
   "source": [
    "Let's plot our results:"
   ]
  },
  {
   "cell_type": "code",
   "execution_count": 58,
   "metadata": {
    "editable": true,
    "slideshow": {
     "slide_type": ""
    },
    "tags": []
   },
   "outputs": [
    {
     "data": {
      "image/png": "[encoded data removed]",
      "text/plain": [
       "<Figure size 432x288 with 1 Axes>"
      ]
     },
     "metadata": {
      "needs_background": "light"
     },
     "output_type": "display_data"
    }
   ],
   "source": [
    "import matplotlib.pyplot as plt\n",
    "\n",
    "# Plot voltage over time\n",
    "_ = plt.plot(t.as_numpy(), v.as_numpy())\n",
    "\n",
    "# Some cosmetics\n",
    "ax = plt.gca()\n",
    "ax.set_xlabel(\"time [ms]\")\n",
    "ax.set_ylabel(\"potential [mV]\")\n",
    "\n",
    "plt.show()"
   ]
  },
  {
   "cell_type": "markdown",
   "metadata": {
    "editable": true,
    "slideshow": {
     "slide_type": "fragment"
    },
    "tags": []
   },
   "source": [
    "OK, so looks like the resting potential isn't actually substantially different \n",
    "from the initial -65mV..."
   ]
  },
  {
   "cell_type": "markdown",
   "metadata": {
    "editable": true,
    "slideshow": {
     "slide_type": "slide"
    },
    "tags": []
   },
   "source": [
    "## Stimulation!\n",
    "\n",
    "Let's spice things up and inject some current in our cell! For that we need to\n",
    "generate a stimulus and hook it up to `soma`:"
   ]
  },
  {
   "cell_type": "code",
   "execution_count": 60,
   "metadata": {
    "editable": true,
    "slideshow": {
     "slide_type": ""
    },
    "tags": []
   },
   "outputs": [],
   "source": [
    "iclamp = h.IClamp(soma(0.5))"
   ]
  },
  {
   "cell_type": "markdown",
   "metadata": {
    "editable": true,
    "slideshow": {
     "slide_type": "subslide"
    },
    "tags": []
   },
   "source": [
    "`iclamp` is a current clamp stimulus which we attached to the center of our\n",
    "`soma`. Like `Sections` it has a couple parameters we can tweak:\n",
    "\n",
    "- `delay` [ms]: onset of the stimulus after simulation start \n",
    "- `dur` [ms]: duration after onset \n",
    "- `amp` [nA]: amplitude \n",
    "\n",
    "When in doubt you can use the `help` function to learn more about properties\n",
    "(e.g. `help(h.IClamp)`)."
   ]
  },
  {
   "cell_type": "code",
   "execution_count": 61,
   "metadata": {
    "editable": true,
    "slideshow": {
     "slide_type": ""
    },
    "tags": []
   },
   "outputs": [],
   "source": [
    "iclamp.delay = 5\n",
    "iclamp.dur = 0.1\n",
    "iclamp.amp = 0.9"
   ]
  },
  {
   "cell_type": "markdown",
   "metadata": {
    "editable": true,
    "slideshow": {
     "slide_type": "subslide"
    },
    "tags": []
   },
   "source": [
    "Now we can rerun the simulation"
   ]
  },
  {
   "cell_type": "code",
   "execution_count": 62,
   "metadata": {},
   "outputs": [
    {
     "data": {
      "text/plain": [
       "0.0"
      ]
     },
     "execution_count": 62,
     "metadata": {},
     "output_type": "execute_result"
    }
   ],
   "source": [
    "# Reset starting potential to -65mV\n",
    "h.finitialize(-65 * mV)\n",
    "\n",
    "# Run the simulation for 40ms\n",
    "h.continuerun(40 * ms)"
   ]
  },
  {
   "cell_type": "markdown",
   "metadata": {
    "editable": true,
    "slideshow": {
     "slide_type": "subslide"
    },
    "tags": []
   },
   "source": [
    "Do the plotting"
   ]
  },
  {
   "cell_type": "code",
   "execution_count": 63,
   "metadata": {},
   "outputs": [
    {
     "data": {
      "image/png": "[encoded data removed]",
      "text/plain": [
       "<Figure size 432x288 with 1 Axes>"
      ]
     },
     "metadata": {
      "needs_background": "light"
     },
     "output_type": "display_data"
    }
   ],
   "source": [
    "# Plot voltage over time\n",
    "_ = plt.plot(t.as_numpy(), v.as_numpy())\n",
    "\n",
    "# Some cosmetics\n",
    "ax = plt.gca()\n",
    "ax.set_xlabel(\"time [ms]\")\n",
    "ax.set_ylabel(\"potential [mV]\")\n",
    "\n",
    "plt.show()"
   ]
  },
  {
   "cell_type": "markdown",
   "metadata": {
    "editable": true,
    "slideshow": {
     "slide_type": ""
    },
    "tags": []
   },
   "source": [
    "Behold! Right on time (i.e. after `5ms`) our stimulus injected a current that\n",
    "depolarized our soma above threshold and it fired a single action potential.\n",
    "\n",
    "Now you have _15min_ to play around with the above. Please download this notebook\n",
    "and run on your machine or collaboratory. A couple things you should try:\n",
    "\n",
    "1. Generate a train of spikes in `soma`\n",
    "2. Hyperpolarize `soma`\n",
    "3. Stop a spike train by hyperpolarizing the cell"
   ]
  }
 ],
 "metadata": {
  "kernelspec": {
   "display_name": "Python 3 (ipykernel)",
   "language": "python",
   "name": "python3"
  },
  "language_info": {
   "codemirror_mode": {
    "name": "ipython",
    "version": 3
   },
   "file_extension": ".py",
   "mimetype": "text/x-python",
   "name": "python",
   "nbconvert_exporter": "python",
   "pygments_lexer": "ipython3",
   "version": "3.9.9"
  },
  "rise": {
   "slideNumber": true,
   "theme": "serif"
  }
 },
 "nbformat": 4,
 "nbformat_minor": 4
}
